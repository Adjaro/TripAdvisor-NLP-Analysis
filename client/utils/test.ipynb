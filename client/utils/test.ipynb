{
 "cells": [
  {
   "cell_type": "code",
   "execution_count": 13,
   "metadata": {},
   "outputs": [
    {
     "name": "stdout",
     "output_type": "stream",
     "text": [
      "Agastache_Restaurant.json\n",
      "dict_keys(['nom', 'adresse', 'classement', 'horaires', 'note_globale', 'note_cuisine', 'note_service', 'note_rapportqualiteprix', 'note_ambiance', 'infos_pratiques', 'repas', 'regimes', 'fourchette_prix', 'fonctionnalités', 'type_cuisines', 'latitude', 'longitude', 'nb_avis', 'nbExcellent', 'nbTrèsbon', 'nbMoyen', 'nbMédiocre', 'nbHorrible', 'avis'])\n"
     ]
    }
   ],
   "source": [
    "import os\n",
    "import json\n",
    "import re\n",
    "import string\n",
    "from schemas import DimDateBase\n",
    "\n",
    "def read_json_file(file_path):\n",
    "    with open(file_path, 'r') as file:\n",
    "        return json.load(file)\n",
    "    \n",
    "data_dir = '../data'\n",
    "json_files = [f for f in os.listdir(data_dir) if f.endswith('.json')]\n",
    "\n",
    "\n",
    "\n",
    "for  file  in  json_files[:1]:\n",
    "    # dim_date = DimDateBase()\n",
    "\n",
    "    print(file)\n",
    "    file_path = os.path.join(data_dir, file)\n",
    "    data = read_json_file(file_path)\n",
    "    print(data.keys())"
   ]
  },
  {
   "cell_type": "code",
   "execution_count": null,
   "metadata": {},
   "outputs": [
    {
     "name": "stdout",
     "output_type": "stream",
     "text": [
      "Agastache_Restaurant.json\n"
     ]
    },
    {
     "ename": "TypeError",
     "evalue": "__init__() takes 1 positional argument but 2 were given",
     "output_type": "error",
     "traceback": [
      "\u001b[1;31m---------------------------------------------------------------------------\u001b[0m",
      "\u001b[1;31mTypeError\u001b[0m                                 Traceback (most recent call last)",
      "Cell \u001b[1;32mIn[15], line 26\u001b[0m\n\u001b[0;32m     21\u001b[0m data \u001b[38;5;241m=\u001b[39m read_json_file(file_path)\n\u001b[0;32m     22\u001b[0m date \u001b[38;5;241m=\u001b[39m {\n\u001b[0;32m     23\u001b[0m     \u001b[38;5;124m'\u001b[39m\u001b[38;5;124mdate\u001b[39m\u001b[38;5;124m'\u001b[39m: data[\u001b[38;5;124m'\u001b[39m\u001b[38;5;124mnom\u001b[39m\u001b[38;5;124m'\u001b[39m]\n\u001b[0;32m     24\u001b[0m \n\u001b[0;32m     25\u001b[0m }\n\u001b[1;32m---> 26\u001b[0m dim_date \u001b[38;5;241m=\u001b[39m \u001b[43mDimDateBase\u001b[49m\u001b[43m(\u001b[49m\u001b[43mdate\u001b[49m\u001b[43m)\u001b[49m\n\u001b[0;32m     28\u001b[0m \u001b[38;5;28mprint\u001b[39m(date)\n\u001b[0;32m     29\u001b[0m \u001b[38;5;66;03m# print(data ['avis'])\u001b[39;00m\n\u001b[0;32m     30\u001b[0m \u001b[38;5;66;03m# print(len(data))\u001b[39;00m\n",
      "\u001b[1;31mTypeError\u001b[0m: __init__() takes 1 positional argument but 2 were given"
     ]
    }
   ],
   "source": [
    "import os\n",
    "import json\n",
    "import re\n",
    "import string\n",
    "from schemas import DimDateBase\n",
    "\n",
    "def read_json_file(file_path):\n",
    "    with open(file_path, 'r') as file:\n",
    "        return json.load(file)\n",
    "    \n",
    "data_dir = '../data'\n",
    "json_files = [f for f in os.listdir(data_dir) if f.endswith('.json')]\n",
    "\n",
    "\n",
    "\n",
    "for  file  in  json_files[:1]:\n",
    "    # dim_date = DimDateBase()\n",
    "\n",
    "    print(file)\n",
    "    file_path = os.path.join(data_dir, file)\n",
    "    data = read_json_file(file_path)\n",
    "    date = {\n",
    "        'date': data['nom']\n",
    "\n",
    "    }\n",
    "    dim_date = DimDateBase()\n",
    "\n",
    "    print(date)\n",
    "    # print(data ['avis'])\n",
    "    # print(len(data))"
   ]
  },
  {
   "cell_type": "code",
   "execution_count": 19,
   "metadata": {},
   "outputs": [
    {
     "name": "stdout",
     "output_type": "stream",
     "text": [
      "date=datetime.date(2023, 10, 1) mois=10 annee=2023\n"
     ]
    }
   ],
   "source": [
    "from schemas import DimDateCreate, DimAuteurCreate, FaitAvisCreate, DimDate, DimAuteur, FaitAvis\n",
    "\n",
    "# Example function to create a new date entry\n",
    "def create_date_entry(date_str: str, mois_str: str, annee_str: str):\n",
    "    date_entry = DimDateCreate(date=date_str, mois=mois_str, annee=annee_str)\n",
    "    # Perform further operations, such as saving to the database\n",
    "    return date_entry\n",
    "\n",
    "# # Example function to create a new author entry\n",
    "# def create_author_entry(auteur: str, email: Optional[str] = None):\n",
    "#     author_entry = DimAuteurCreate(auteur=auteur, email=email)\n",
    "#     # Perform further operations, such as saving to the database\n",
    "#     return author_entry\n",
    "\n",
    "# # Example function to create a new review entry\n",
    "# def create_review_entry(id_restaurant: int, id_date: int, id_auteur: int, note: int, commentaire: Optional[str] = None, nb_commentaire: Optional[int] = None):\n",
    "#     review_entry = FaitAvisCreate(\n",
    "#         id_restaurant=id_restaurant,\n",
    "#         id_date=id_date,\n",
    "#         id_auteur=id_auteur,\n",
    "#         note=note,\n",
    "#         commentaire=commentaire,\n",
    "#         nb_commentaire=nb_commentaire\n",
    "#     )\n",
    "#     # Perform further operations, such as saving to the database\n",
    "#     return review_entry\n",
    "\n",
    "# Example usage\n",
    "if __name__ == \"__main__\":\n",
    "    date_entry = create_date_entry(\"2023-10-01\", \"10\", \"2023\")\n",
    "    print(date_entry)\n",
    "\n",
    "    # author_entry = create_author_entry(\"John Doe\", \"john.doe@example.com\")\n",
    "    # print(author_entry)\n",
    "\n",
    "    # review_entry = create_review_entry(1, 1, 1, 5, \"Great restaurant!\", 10)\n",
    "    # print(review_entry)"
   ]
  }
 ],
 "metadata": {
  "kernelspec": {
   "display_name": "nlpProject",
   "language": "python",
   "name": "python3"
  },
  "language_info": {
   "codemirror_mode": {
    "name": "ipython",
    "version": 3
   },
   "file_extension": ".py",
   "mimetype": "text/x-python",
   "name": "python",
   "nbconvert_exporter": "python",
   "pygments_lexer": "ipython3",
   "version": "3.9.21"
  }
 },
 "nbformat": 4,
 "nbformat_minor": 2
}
